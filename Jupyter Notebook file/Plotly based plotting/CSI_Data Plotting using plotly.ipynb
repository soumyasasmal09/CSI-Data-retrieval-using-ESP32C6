{
 "cells": [
  {
   "cell_type": "code",
   "execution_count": 1,
   "id": "0fb8e4da-0e8a-426c-b421-5908e4f43aac",
   "metadata": {},
   "outputs": [],
   "source": [
    "import serial\n",
    "import csv\n",
    "import re\n",
    "import dash\n",
    "from dash.dependencies import Output, Input\n",
    "import numpy as np\n",
    "import pandas as pd\n",
    "from dash import dcc\n",
    "from dash import html\n",
    "import plotly.graph_objs as go\n",
    "from collections import deque\n",
    "import time\n",
    "from datetime import datetime\n",
    "current_time = timestamp = time.strftime('%Y-%m-%d-%H-%M-%S')"
   ]
  },
  {
   "cell_type": "code",
   "execution_count": 2,
   "id": "2d1d024a-9f1c-4ee8-b04e-07c66518a1bf",
   "metadata": {},
   "outputs": [],
   "source": [
    "## Connecting to esp32c6"
   ]
  },
  {
   "cell_type": "code",
   "execution_count": 3,
   "id": "939f4f34-d0d4-467d-86ba-bb003c3a99ac",
   "metadata": {},
   "outputs": [],
   "source": [
    "def serialConnection():\n",
    "    try:\n",
    "        serCon = serial.Serial(\"COM7\",115200, timeout = 0)\n",
    "        print(\"connection successful\")\n",
    "    except serial.SerialException:\n",
    "        print(\"Check connection.Replug the board\")\n",
    "        time.sleep(20)\n",
    "        serCon = serial.Serial(\"COM8\",115200, timeout = 1)\n",
    "    if not serCon.is_open:\n",
    "        print(\"Switching to COM7 port\")\n",
    "        serCon = serial.Serial(\"COM7\",115200,timeout = 1)\n",
    "    return serCon"
   ]
  },
  {
   "cell_type": "code",
   "execution_count": 4,
   "id": "97930a90-bde9-41d0-a2cd-43391c9c3820",
   "metadata": {},
   "outputs": [
    {
     "name": "stdout",
     "output_type": "stream",
     "text": [
      "connection successful\n"
     ]
    }
   ],
   "source": [
    "## Collecting Live CSI data\n",
    "ser = serialConnection()"
   ]
  },
  {
   "cell_type": "code",
   "execution_count": 5,
   "id": "d69e3fe5-d20c-46a7-83c7-5bbf5eb556ca",
   "metadata": {},
   "outputs": [
    {
     "data": {
      "text/html": [
       "\n",
       "        <iframe\n",
       "            width=\"100%\"\n",
       "            height=\"650\"\n",
       "            src=\"http://127.0.0.1:8050/\"\n",
       "            frameborder=\"0\"\n",
       "            allowfullscreen\n",
       "            \n",
       "        ></iframe>\n",
       "        "
      ],
      "text/plain": [
       "<IPython.lib.display.IFrame at 0x219eadc06d0>"
      ]
     },
     "metadata": {},
     "output_type": "display_data"
    }
   ],
   "source": [
    "# Initialize the Dash app\n",
    "app = dash.Dash(__name__)\n",
    "\n",
    "# Define the layout of the app\n",
    "app.layout = html.Div(\n",
    "    [\n",
    "        dcc.Graph(id='live-graph', animate=True),\n",
    "        dcc.Interval(\n",
    "            id='graph-update',\n",
    "            interval=1000,  # Update every 40 mili second\n",
    "            n_intervals=0 # Update every 40 mili second\n",
    "        ),\n",
    "    ]\n",
    ")\n",
    "\n",
    "# Define the callback to update the graph\n",
    "@app.callback(\n",
    "    Output('live-graph', 'figure'),\n",
    "    [Input('graph-update', 'n_intervals')]\n",
    ")\n",
    "def update_graph_live(n):\n",
    "    x = np.arange(256)\n",
    "    y = np.zeros(256)\n",
    "\n",
    "    if ser.in_waiting > 0:\n",
    "        line = ser.readline().decode('utf-8').rstrip()\n",
    "        print(f\"Received: {line}\")  # Debugging line\n",
    "        timestamp = time.strftime('%Y-%m-%d %H:%M:%S')\n",
    "        if re.match(r'^-?\\d+(\\s-?\\d+)*$', line):\n",
    "            data = [int(i) for i in line.split(' ')]\n",
    "            print(f\"Parsed Data: {data}\")  # Debugging line\n",
    "\n",
    "            fileName = f\"CSI_{current_time}.csv\"\n",
    "            with open(fileName, \"a\", newline='') as csvfile:\n",
    "                csvwriter = csv.writer(csvfile)\n",
    "                csvwriter.writerow([timestamp] + data)\n",
    "            y = np.array(data)\n",
    "\n",
    "    data = go.Scatter(\n",
    "        x=x,\n",
    "        y=y,\n",
    "        mode='lines+markers'\n",
    "    )\n",
    "\n",
    "    return {'data': [data], 'layout': go.Layout(xaxis=dict(range=[0, 256]),\n",
    "                                                yaxis=dict(range=[-300, 300]),\n",
    "                                                title='Live CSI Animation')}\n",
    "\n",
    "if __name__ == '__main__':\n",
    "    app.run_server(debug=True)"
   ]
  }
 ],
 "metadata": {
  "kernelspec": {
   "display_name": "Python 3 (ipykernel)",
   "language": "python",
   "name": "python3"
  },
  "language_info": {
   "codemirror_mode": {
    "name": "ipython",
    "version": 3
   },
   "file_extension": ".py",
   "mimetype": "text/x-python",
   "name": "python",
   "nbconvert_exporter": "python",
   "pygments_lexer": "ipython3",
   "version": "3.11.5"
  }
 },
 "nbformat": 4,
 "nbformat_minor": 5
}
